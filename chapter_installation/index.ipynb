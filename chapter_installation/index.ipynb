{
 "cells": [
  {
   "cell_type": "markdown",
   "id": "c87a3811",
   "metadata": {},
   "source": [
    "# Installation\n",
    "\n",
    "We require an environment and jupyter notebook."
   ]
  },
  {
   "cell_type": "markdown",
   "id": "64e7430e",
   "metadata": {},
   "source": [
    "## Environment\n",
    "\n",
    "As stated in README.md, after you clone this repository, activate the julia REPL. After that, run:\n",
    "\n",
    "```julia\n",
    "]\n",
    "activate .\n",
    "```\n",
    "This will download relevant libraries, as well as julia kernel for jupyter notebook."
   ]
  },
  {
   "cell_type": "markdown",
   "id": "7c430691",
   "metadata": {},
   "source": [
    "## Jupyter notebook\n",
    "\n",
    "at the `julia>` prompt:\n",
    "```julia\n",
    "using IJulia\n",
    "notebook()\n",
    "```\n",
    "It will prompt you for whether it should install jupyter. If you hit enter, it will install a separate, private version of jupyter notebook."
   ]
  },
  {
   "cell_type": "markdown",
   "id": "c65bde71",
   "metadata": {},
   "source": [
    "## GPU support\n",
    "We will be using Flux.jl. You should check if Flux is functional before proceeding.\n",
    "Go to [flux documentation](http://fluxml.ai/Flux.jl/stable/gpu/) for additional information"
   ]
  },
  {
   "cell_type": "code",
   "execution_count": null,
   "id": "8789eaaf",
   "metadata": {},
   "outputs": [],
   "source": []
  }
 ],
 "metadata": {
  "kernelspec": {
   "display_name": "Julia 1.8.5",
   "language": "julia",
   "name": "julia-1.8"
  },
  "language_info": {
   "file_extension": ".jl",
   "mimetype": "application/julia",
   "name": "julia",
   "version": "1.8.5"
  }
 },
 "nbformat": 4,
 "nbformat_minor": 5
}
