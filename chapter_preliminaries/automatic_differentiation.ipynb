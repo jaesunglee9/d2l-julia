{
 "cells": [
  {
   "cell_type": "markdown",
   "id": "5c58b7a3",
   "metadata": {},
   "source": [
    "# 2.5.1. A Simple Function"
   ]
  },
  {
   "cell_type": "code",
   "execution_count": 68,
   "id": "eb8c2869",
   "metadata": {},
   "outputs": [],
   "source": [
    "using LinearAlgebra, Zygote, ChainRules"
   ]
  },
  {
   "cell_type": "code",
   "execution_count": 69,
   "id": "bc533675",
   "metadata": {},
   "outputs": [
    {
     "data": {
      "text/plain": [
       "4-element Vector{Float64}:\n",
       " 0.0\n",
       " 1.0\n",
       " 2.0\n",
       " 3.0"
      ]
     },
     "execution_count": 69,
     "metadata": {},
     "output_type": "execute_result"
    }
   ],
   "source": [
    "x = Vector(0:1.:3)"
   ]
  },
  {
   "cell_type": "code",
   "execution_count": 70,
   "id": "e09d6a14",
   "metadata": {},
   "outputs": [
    {
     "data": {
      "text/plain": [
       "28.0"
      ]
     },
     "execution_count": 70,
     "metadata": {},
     "output_type": "execute_result"
    }
   ],
   "source": [
    "y = x -> 2 * dot(x, x)\n",
    "y(x)"
   ]
  },
  {
   "cell_type": "code",
   "execution_count": 71,
   "id": "a4aba35c",
   "metadata": {},
   "outputs": [
    {
     "data": {
      "text/plain": [
       "4-element Vector{Float64}:\n",
       "  0.0\n",
       "  4.0\n",
       "  8.0\n",
       " 12.0"
      ]
     },
     "execution_count": 71,
     "metadata": {},
     "output_type": "execute_result"
    }
   ],
   "source": [
    "y'(x)"
   ]
  },
  {
   "cell_type": "code",
   "execution_count": 72,
   "id": "4e60ceb2",
   "metadata": {},
   "outputs": [
    {
     "data": {
      "text/plain": [
       "4-element BitVector:\n",
       " 1\n",
       " 1\n",
       " 1\n",
       " 1"
      ]
     },
     "execution_count": 72,
     "metadata": {},
     "output_type": "execute_result"
    }
   ],
   "source": [
    "y'(x) .== 4 * x"
   ]
  },
  {
   "cell_type": "code",
   "execution_count": 73,
   "id": "5103049a",
   "metadata": {},
   "outputs": [
    {
     "data": {
      "text/plain": [
       "(Fill(1.0, 4),)"
      ]
     },
     "execution_count": 73,
     "metadata": {},
     "output_type": "execute_result"
    }
   ],
   "source": [
    "y = x -> sum(x)\n",
    "gradient(y, x)"
   ]
  },
  {
   "cell_type": "markdown",
   "id": "078b905f",
   "metadata": {},
   "source": [
    "# 2.5.2. Backward for Non-Scalar Variables"
   ]
  },
  {
   "cell_type": "code",
   "execution_count": 52,
   "id": "471597be",
   "metadata": {},
   "outputs": [
    {
     "data": {
      "text/plain": [
       "([0.0, 2.0, 4.0, 6.0],)"
      ]
     },
     "execution_count": 52,
     "metadata": {},
     "output_type": "execute_result"
    }
   ],
   "source": [
    "gradient(x -> dot(x, x), x)"
   ]
  },
  {
   "cell_type": "markdown",
   "id": "6f0f0d9a",
   "metadata": {},
   "source": [
    "# 2.5.3. Detaching Computation"
   ]
  },
  {
   "cell_type": "code",
   "execution_count": 96,
   "id": "f5669b01",
   "metadata": {},
   "outputs": [
    {
     "ename": "LoadError",
     "evalue": "MethodError: objects of type Vector{Float64} are not callable\nUse square brackets [] for indexing an Array.",
     "output_type": "error",
     "traceback": [
      "MethodError: objects of type Vector{Float64} are not callable\nUse square brackets [] for indexing an Array.",
      "",
      "Stacktrace:",
      " [1] macro expansion",
      "   @ ~/.julia/packages/Zygote/TSj5C/src/compiler/interface2.jl:0 [inlined]",
      " [2] _pullback(ctx::Zygote.Context{false}, f::Vector{Float64}, args::Vector{Float64})",
      "   @ Zygote ~/.julia/packages/Zygote/TSj5C/src/compiler/interface2.jl:9",
      " [3] pullback(f::Vector{Float64}, cx::Zygote.Context{false}, args::Vector{Float64})",
      "   @ Zygote ~/.julia/packages/Zygote/TSj5C/src/compiler/interface.jl:44",
      " [4] pullback",
      "   @ ~/.julia/packages/Zygote/TSj5C/src/compiler/interface.jl:42 [inlined]",
      " [5] gradient(f::Vector{Float64}, args::Vector{Float64})",
      "   @ Zygote ~/.julia/packages/Zygote/TSj5C/src/compiler/interface.jl:96",
      " [6] top-level scope",
      "   @ In[96]:7"
     ]
    }
   ],
   "source": [
    "stop_gradient(f) = f()\n",
    "Zygote.@nograd stop_gradient\n",
    "y = dot(x, x)\n",
    "z = stop_gradient() do\n",
    "    y * x\n",
    "end\n",
    "gradient(z, x)"
   ]
  },
  {
   "cell_type": "markdown",
   "id": "0ec15ceb",
   "metadata": {},
   "source": [
    "# 2.5.4. Gradients and Python Control Flow"
   ]
  },
  {
   "cell_type": "code",
   "execution_count": 97,
   "id": "aa0e23c2",
   "metadata": {},
   "outputs": [
    {
     "data": {
      "text/plain": [
       "f (generic function with 1 method)"
      ]
     },
     "execution_count": 97,
     "metadata": {},
     "output_type": "execute_result"
    }
   ],
   "source": [
    "function f(a)\n",
    "    b = a * 2\n",
    "    while norm(b) < 1000\n",
    "        b = b * 2\n",
    "    end\n",
    "    if sum(b) > 0\n",
    "        c = b\n",
    "    else\n",
    "        c = 100 * b\n",
    "    end\n",
    "    return c\n",
    "end"
   ]
  },
  {
   "cell_type": "code",
   "execution_count": 102,
   "id": "ce4f2e6d",
   "metadata": {},
   "outputs": [
    {
     "data": {
      "text/plain": [
       "2048.0"
      ]
     },
     "execution_count": 102,
     "metadata": {},
     "output_type": "execute_result"
    }
   ],
   "source": [
    "a = randn()\n",
    "d = f(a)\n",
    "f'(a)"
   ]
  },
  {
   "cell_type": "code",
   "execution_count": 103,
   "id": "38997357",
   "metadata": {},
   "outputs": [
    {
     "data": {
      "text/plain": [
       "true"
      ]
     },
     "execution_count": 103,
     "metadata": {},
     "output_type": "execute_result"
    }
   ],
   "source": [
    "f'(a) == d / a"
   ]
  },
  {
   "cell_type": "code",
   "execution_count": null,
   "id": "278617dc",
   "metadata": {},
   "outputs": [],
   "source": []
  }
 ],
 "metadata": {
  "kernelspec": {
   "display_name": "Julia 1.8.5",
   "language": "julia",
   "name": "julia-1.8"
  },
  "language_info": {
   "file_extension": ".jl",
   "mimetype": "application/julia",
   "name": "julia",
   "version": "1.8.5"
  }
 },
 "nbformat": 4,
 "nbformat_minor": 5
}
