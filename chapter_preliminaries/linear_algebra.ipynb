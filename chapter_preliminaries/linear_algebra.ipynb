{
 "cells": [
  {
   "cell_type": "code",
   "execution_count": 86,
   "id": "28b8eed8",
   "metadata": {},
   "outputs": [],
   "source": [
    "using Statistics"
   ]
  },
  {
   "cell_type": "markdown",
   "id": "c8b42560",
   "metadata": {},
   "source": [
    "# 2.3.1. Scalars"
   ]
  },
  {
   "cell_type": "code",
   "execution_count": 1,
   "id": "53ca2237",
   "metadata": {},
   "outputs": [
    {
     "data": {
      "text/plain": [
       "(5.0, 6.0, 1.5, 9.0)"
      ]
     },
     "execution_count": 1,
     "metadata": {},
     "output_type": "execute_result"
    }
   ],
   "source": [
    "x = 3.\n",
    "y = 2.\n",
    "\n",
    "x + y, x * y, x / y, x^y"
   ]
  },
  {
   "cell_type": "markdown",
   "id": "1e7a5b35",
   "metadata": {},
   "source": [
    "# 2.3.2. Vectors"
   ]
  },
  {
   "cell_type": "code",
   "execution_count": 4,
   "id": "2535633d",
   "metadata": {},
   "outputs": [
    {
     "data": {
      "text/plain": [
       "3-element Vector{Int64}:\n",
       " 0\n",
       " 1\n",
       " 2"
      ]
     },
     "execution_count": 4,
     "metadata": {},
     "output_type": "execute_result"
    }
   ],
   "source": [
    "x = Vector(0:2)"
   ]
  },
  {
   "cell_type": "code",
   "execution_count": 6,
   "id": "0bbac303",
   "metadata": {},
   "outputs": [
    {
     "data": {
      "text/plain": [
       "2"
      ]
     },
     "execution_count": 6,
     "metadata": {},
     "output_type": "execute_result"
    }
   ],
   "source": [
    "x[3] # 1-based indexing"
   ]
  },
  {
   "cell_type": "code",
   "execution_count": 8,
   "id": "1ec3e83e",
   "metadata": {},
   "outputs": [
    {
     "data": {
      "text/plain": [
       "3"
      ]
     },
     "execution_count": 8,
     "metadata": {},
     "output_type": "execute_result"
    }
   ],
   "source": [
    "length(x)"
   ]
  },
  {
   "cell_type": "code",
   "execution_count": 11,
   "id": "7aca1135",
   "metadata": {},
   "outputs": [
    {
     "data": {
      "text/plain": [
       "(3,)"
      ]
     },
     "execution_count": 11,
     "metadata": {},
     "output_type": "execute_result"
    }
   ],
   "source": [
    "size(x) # note that the value is a tuple"
   ]
  },
  {
   "cell_type": "markdown",
   "id": "3376a47b",
   "metadata": {},
   "source": [
    "# 2.3.3. Matrices"
   ]
  },
  {
   "cell_type": "code",
   "execution_count": 16,
   "id": "4a5fc643",
   "metadata": {},
   "outputs": [
    {
     "data": {
      "text/plain": [
       "3×2 adjoint(::Matrix{Int64}) with eltype Int64:\n",
       " 0  1\n",
       " 2  3\n",
       " 4  5"
      ]
     },
     "execution_count": 16,
     "metadata": {},
     "output_type": "execute_result"
    }
   ],
   "source": [
    "A = reshape(Vector(0:5), 2, 3)'"
   ]
  },
  {
   "cell_type": "code",
   "execution_count": 17,
   "id": "689e57f6",
   "metadata": {},
   "outputs": [
    {
     "data": {
      "text/plain": [
       "2×3 Matrix{Int64}:\n",
       " 0  2  4\n",
       " 1  3  5"
      ]
     },
     "execution_count": 17,
     "metadata": {},
     "output_type": "execute_result"
    }
   ],
   "source": [
    "A'"
   ]
  },
  {
   "cell_type": "code",
   "execution_count": 18,
   "id": "95bf33c8",
   "metadata": {},
   "outputs": [
    {
     "data": {
      "text/plain": [
       "3×3 BitMatrix:\n",
       " 1  1  1\n",
       " 1  1  1\n",
       " 1  1  1"
      ]
     },
     "execution_count": 18,
     "metadata": {},
     "output_type": "execute_result"
    }
   ],
   "source": [
    "A = [\n",
    "    1 2 3;\n",
    "    2 0 4;\n",
    "    3 4 5;\n",
    "]\n",
    "\n",
    "A .== A'"
   ]
  },
  {
   "cell_type": "markdown",
   "id": "7d819bfc",
   "metadata": {},
   "source": [
    "# 2.3.4. Tensors"
   ]
  },
  {
   "cell_type": "code",
   "execution_count": 48,
   "id": "a5a8e45e",
   "metadata": {},
   "outputs": [
    {
     "data": {
      "text/plain": [
       "3×4×2 Array{Int64, 3}:\n",
       "[:, :, 1] =\n",
       " 0  1   2   3\n",
       " 4  5   6   7\n",
       " 8  9  10  11\n",
       "\n",
       "[:, :, 2] =\n",
       " 12  13  14  15\n",
       " 16  17  18  19\n",
       " 20  21  22  23"
      ]
     },
     "execution_count": 48,
     "metadata": {},
     "output_type": "execute_result"
    }
   ],
   "source": [
    "A = cat(reshape(Vector(0:23), 4, 3, 2)[:, :, 1]', reshape(Vector(0:23), 4, 3, 2)[:, :, 2]', dims=3)"
   ]
  },
  {
   "cell_type": "markdown",
   "id": "bdb76432",
   "metadata": {},
   "source": [
    "# 2.3.5. Basic Properties of Tensor Arithmetic"
   ]
  },
  {
   "cell_type": "code",
   "execution_count": 50,
   "id": "e6277372",
   "metadata": {},
   "outputs": [
    {
     "data": {
      "text/plain": [
       "(Float32[0.0 1.0 2.0; 3.0 4.0 5.0], Float32[0.0 2.0 4.0; 6.0 8.0 10.0])"
      ]
     },
     "execution_count": 50,
     "metadata": {},
     "output_type": "execute_result"
    }
   ],
   "source": [
    "A = reshape(Vector{Float32}(0:5), 3, 2)'\n",
    "B = copy(A)\n",
    "A, A + B"
   ]
  },
  {
   "cell_type": "code",
   "execution_count": 51,
   "id": "9828bfa0",
   "metadata": {},
   "outputs": [
    {
     "data": {
      "text/plain": [
       "2×3 Matrix{Float32}:\n",
       " 0.0   1.0   4.0\n",
       " 9.0  16.0  25.0"
      ]
     },
     "execution_count": 51,
     "metadata": {},
     "output_type": "execute_result"
    }
   ],
   "source": [
    "A .* B"
   ]
  },
  {
   "cell_type": "code",
   "execution_count": 53,
   "id": "8850ea62",
   "metadata": {},
   "outputs": [
    {
     "data": {
      "text/plain": [
       "([2 3 4 5; 6 7 8 9; 10 11 12 13;;; 14 15 16 17; 18 19 20 21; 22 23 24 25], (3, 4, 2))"
      ]
     },
     "execution_count": 53,
     "metadata": {},
     "output_type": "execute_result"
    }
   ],
   "source": [
    "# PyTorch or other python libraries does not follow linear algebra notations, hence the following ugliness\n",
    "a = 2\n",
    "X = cat(reshape(Vector(0:23), 4, 3, 2)[:, :, 1]', reshape(Vector(0:23), 4, 3, 2)[:, :, 2]', dims=3)\n",
    "a .+ X, size(a * X)"
   ]
  },
  {
   "cell_type": "markdown",
   "id": "4f4850cd",
   "metadata": {},
   "source": [
    "# 2.3.6. Reduction"
   ]
  },
  {
   "cell_type": "code",
   "execution_count": 103,
   "id": "1bf27c32",
   "metadata": {},
   "outputs": [
    {
     "data": {
      "text/plain": [
       "([0.0, 1.0, 2.0], 3.0)"
      ]
     },
     "execution_count": 103,
     "metadata": {},
     "output_type": "execute_result"
    }
   ],
   "source": [
    "x = Vector{Float64}(0:2)\n",
    "x, sum(x)"
   ]
  },
  {
   "cell_type": "code",
   "execution_count": 56,
   "id": "4640a33c",
   "metadata": {},
   "outputs": [
    {
     "data": {
      "text/plain": [
       "((2, 3), 15.0f0)"
      ]
     },
     "execution_count": 56,
     "metadata": {},
     "output_type": "execute_result"
    }
   ],
   "source": [
    "size(A), sum(A)"
   ]
  },
  {
   "cell_type": "code",
   "execution_count": 59,
   "id": "eab6e1e4",
   "metadata": {},
   "outputs": [
    {
     "data": {
      "text/plain": [
       "((2, 3), (1, 3))"
      ]
     },
     "execution_count": 59,
     "metadata": {},
     "output_type": "execute_result"
    }
   ],
   "source": [
    "size(A), size(sum(A, dims=1))"
   ]
  },
  {
   "cell_type": "code",
   "execution_count": 60,
   "id": "7ca5e3ac",
   "metadata": {},
   "outputs": [
    {
     "data": {
      "text/plain": [
       "((2, 3), (2, 1))"
      ]
     },
     "execution_count": 60,
     "metadata": {},
     "output_type": "execute_result"
    }
   ],
   "source": [
    "size(A), size(sum(A, dims=2))"
   ]
  },
  {
   "cell_type": "code",
   "execution_count": 81,
   "id": "8c15f8d5",
   "metadata": {},
   "outputs": [
    {
     "data": {
      "text/plain": [
       "true"
      ]
     },
     "execution_count": 81,
     "metadata": {},
     "output_type": "execute_result"
    }
   ],
   "source": [
    "only(sum(A, dims=(1, 2))) == sum(A)"
   ]
  },
  {
   "cell_type": "code",
   "execution_count": 88,
   "id": "fc96d23a",
   "metadata": {},
   "outputs": [
    {
     "data": {
      "text/plain": [
       "(2.5f0, 2.5f0)"
      ]
     },
     "execution_count": 88,
     "metadata": {},
     "output_type": "execute_result"
    }
   ],
   "source": [
    "mean(A), sum(A)/length(A)"
   ]
  },
  {
   "cell_type": "code",
   "execution_count": 90,
   "id": "25143fe4",
   "metadata": {},
   "outputs": [
    {
     "data": {
      "text/plain": [
       "(Float32[1.5 2.5 3.5], Float32[1.5 2.5 3.5])"
      ]
     },
     "execution_count": 90,
     "metadata": {},
     "output_type": "execute_result"
    }
   ],
   "source": [
    "mean(A, dims=1), sum(A, dims=1) / size(A)[1]"
   ]
  },
  {
   "cell_type": "code",
   "execution_count": 94,
   "id": "ecfbc36d",
   "metadata": {},
   "outputs": [
    {
     "data": {
      "text/plain": [
       "(Float32[3.0; 12.0;;], (2, 1))"
      ]
     },
     "execution_count": 94,
     "metadata": {},
     "output_type": "execute_result"
    }
   ],
   "source": [
    "sum_A = sum(A, dims=2)  # automatically keeps dimensions\n",
    "sum_A, size(sum_A)"
   ]
  },
  {
   "cell_type": "code",
   "execution_count": 96,
   "id": "16ff0bdc",
   "metadata": {},
   "outputs": [
    {
     "data": {
      "text/plain": [
       "2×3 Matrix{Float32}:\n",
       " 0.0   0.333333  0.666667\n",
       " 0.25  0.333333  0.416667"
      ]
     },
     "execution_count": 96,
     "metadata": {},
     "output_type": "execute_result"
    }
   ],
   "source": [
    "A ./ sum_A"
   ]
  },
  {
   "cell_type": "code",
   "execution_count": 97,
   "id": "557c8cba",
   "metadata": {},
   "outputs": [
    {
     "data": {
      "text/plain": [
       "2×3 Matrix{Float32}:\n",
       " 0.0  1.0  2.0\n",
       " 3.0  5.0  7.0"
      ]
     },
     "execution_count": 97,
     "metadata": {},
     "output_type": "execute_result"
    }
   ],
   "source": [
    "cumsum(A, dims=1)"
   ]
  },
  {
   "cell_type": "markdown",
   "id": "62f24c5d",
   "metadata": {},
   "source": [
    "# 2.3.8. Dot Products"
   ]
  },
  {
   "cell_type": "code",
   "execution_count": 98,
   "id": "045b5179",
   "metadata": {},
   "outputs": [
    {
     "data": {
      "text/plain": [
       "3-element Vector{Float64}:\n",
       " 1.0\n",
       " 1.0\n",
       " 1.0"
      ]
     },
     "execution_count": 98,
     "metadata": {},
     "output_type": "execute_result"
    }
   ],
   "source": [
    "y = ones(3)"
   ]
  },
  {
   "cell_type": "code",
   "execution_count": 106,
   "id": "c45cc543",
   "metadata": {},
   "outputs": [
    {
     "data": {
      "text/plain": [
       "([0.0, 1.0, 2.0], [1.0, 1.0, 1.0], 3.0)"
      ]
     },
     "execution_count": 106,
     "metadata": {},
     "output_type": "execute_result"
    }
   ],
   "source": [
    "x, y, dot(x, y)"
   ]
  },
  {
   "cell_type": "code",
   "execution_count": 107,
   "id": "f97e1f22",
   "metadata": {},
   "outputs": [
    {
     "data": {
      "text/plain": [
       "3.0"
      ]
     },
     "execution_count": 107,
     "metadata": {},
     "output_type": "execute_result"
    }
   ],
   "source": [
    "sum(x .* y)"
   ]
  },
  {
   "cell_type": "markdown",
   "id": "457a4d8b",
   "metadata": {},
   "source": [
    "# 2.3.9. Matrix-Vector Products"
   ]
  },
  {
   "cell_type": "code",
   "execution_count": 108,
   "id": "41cd0b33",
   "metadata": {},
   "outputs": [
    {
     "data": {
      "text/plain": [
       "((2, 3), (3,), [5.0, 14.0])"
      ]
     },
     "execution_count": 108,
     "metadata": {},
     "output_type": "execute_result"
    }
   ],
   "source": [
    "size(A), size(x), A * x"
   ]
  },
  {
   "cell_type": "markdown",
   "id": "4e76e94f",
   "metadata": {},
   "source": [
    "# 2.3.10. Matrix-Matrix Multiplication"
   ]
  },
  {
   "cell_type": "code",
   "execution_count": 109,
   "id": "053f2082",
   "metadata": {},
   "outputs": [
    {
     "data": {
      "text/plain": [
       "2×4 Matrix{Float64}:\n",
       "  3.0   3.0   3.0   3.0\n",
       " 12.0  12.0  12.0  12.0"
      ]
     },
     "execution_count": 109,
     "metadata": {},
     "output_type": "execute_result"
    }
   ],
   "source": [
    "B = ones(3, 4)\n",
    "A * B"
   ]
  },
  {
   "cell_type": "markdown",
   "id": "5293a89e",
   "metadata": {},
   "source": [
    "# 2.3.11. Norms"
   ]
  },
  {
   "cell_type": "code",
   "execution_count": 113,
   "id": "f9d3a77b",
   "metadata": {},
   "outputs": [
    {
     "data": {
      "text/plain": [
       "5.0"
      ]
     },
     "execution_count": 113,
     "metadata": {},
     "output_type": "execute_result"
    }
   ],
   "source": [
    "u = [3, -4]\n",
    "norm(u)"
   ]
  },
  {
   "cell_type": "code",
   "execution_count": 115,
   "id": "6b2f9fb5",
   "metadata": {},
   "outputs": [
    {
     "data": {
      "text/plain": [
       "7"
      ]
     },
     "execution_count": 115,
     "metadata": {},
     "output_type": "execute_result"
    }
   ],
   "source": [
    "sum(abs.(u))"
   ]
  },
  {
   "cell_type": "code",
   "execution_count": 116,
   "id": "a855bf44",
   "metadata": {},
   "outputs": [
    {
     "data": {
      "text/plain": [
       "6.0"
      ]
     },
     "execution_count": 116,
     "metadata": {},
     "output_type": "execute_result"
    }
   ],
   "source": [
    "norm(ones(4,9))"
   ]
  }
 ],
 "metadata": {
  "kernelspec": {
   "display_name": "Julia 1.8.5",
   "language": "julia",
   "name": "julia-1.8"
  },
  "language_info": {
   "file_extension": ".jl",
   "mimetype": "application/julia",
   "name": "julia",
   "version": "1.8.5"
  }
 },
 "nbformat": 4,
 "nbformat_minor": 5
}
