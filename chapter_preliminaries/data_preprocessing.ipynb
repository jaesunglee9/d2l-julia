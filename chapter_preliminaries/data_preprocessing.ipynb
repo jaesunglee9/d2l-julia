{
 "cells": [
  {
   "cell_type": "markdown",
   "id": "105c4df0",
   "metadata": {},
   "source": [
    "# 2.2.1. Reading the Dataset"
   ]
  },
  {
   "cell_type": "code",
   "execution_count": 89,
   "id": "4e180497",
   "metadata": {},
   "outputs": [],
   "source": [
    "using CSV, DataFrames, Statistics, CategoricalArrays"
   ]
  },
  {
   "cell_type": "code",
   "execution_count": 90,
   "id": "990649c8",
   "metadata": {},
   "outputs": [
    {
     "data": {
      "text/plain": [
       "76"
      ]
     },
     "execution_count": 90,
     "metadata": {},
     "output_type": "execute_result"
    }
   ],
   "source": [
    "path = joinpath(\"..\", \"data\")\n",
    "# mkdir(path)  # run this only the first time \n",
    "data_file = joinpath(path, \"tiny_house.csv\")\n",
    "open(data_file, \"w\") do f\n",
    "    write(f, \"\"\"\n",
    "    NumRooms,RoofType,Price\n",
    "    NA,NA,127500\n",
    "    2,NA,106000\n",
    "    4,Slate,178100\n",
    "    NA,NA,140000\"\"\")\n",
    "end"
   ]
  },
  {
   "cell_type": "markdown",
   "id": "470a8377",
   "metadata": {},
   "source": [
    "# 2.2.2. Data Preparation"
   ]
  },
  {
   "cell_type": "code",
   "execution_count": 91,
   "id": "363ee8da",
   "metadata": {},
   "outputs": [
    {
     "data": {
      "text/html": [
       "<div><div style = \"float: left;\"><span>4×3 DataFrame</span></div><div style = \"clear: both;\"></div></div><div class = \"data-frame\" style = \"overflow-x: scroll;\"><table class = \"data-frame\" style = \"margin-bottom: 6px;\"><thead><tr class = \"header\"><th class = \"rowNumber\" style = \"font-weight: bold; text-align: right;\">Row</th><th style = \"text-align: left;\">NumRooms</th><th style = \"text-align: left;\">RoofType</th><th style = \"text-align: left;\">Price</th></tr><tr class = \"subheader headerLastRow\"><th class = \"rowNumber\" style = \"font-weight: bold; text-align: right;\"></th><th title = \"Int64\" style = \"text-align: left;\">Int64</th><th title = \"String7\" style = \"text-align: left;\">String7</th><th title = \"Int64\" style = \"text-align: left;\">Int64</th></tr></thead><tbody><tr><td class = \"rowNumber\" style = \"font-weight: bold; text-align: right;\">1</td><td style = \"text-align: right;\">3</td><td style = \"text-align: left;\">NA</td><td style = \"text-align: right;\">127500</td></tr><tr><td class = \"rowNumber\" style = \"font-weight: bold; text-align: right;\">2</td><td style = \"text-align: right;\">2</td><td style = \"text-align: left;\">NA</td><td style = \"text-align: right;\">106000</td></tr><tr><td class = \"rowNumber\" style = \"font-weight: bold; text-align: right;\">3</td><td style = \"text-align: right;\">4</td><td style = \"text-align: left;\">Slate</td><td style = \"text-align: right;\">178100</td></tr><tr><td class = \"rowNumber\" style = \"font-weight: bold; text-align: right;\">4</td><td style = \"text-align: right;\">3</td><td style = \"text-align: left;\">NA</td><td style = \"text-align: right;\">140000</td></tr></tbody></table></div>"
      ],
      "text/latex": [
       "\\begin{tabular}{r|ccc}\n",
       "\t& NumRooms & RoofType & Price\\\\\n",
       "\t\\hline\n",
       "\t& Int64 & String7 & Int64\\\\\n",
       "\t\\hline\n",
       "\t1 & 3 & NA & 127500 \\\\\n",
       "\t2 & 2 & NA & 106000 \\\\\n",
       "\t3 & 4 & Slate & 178100 \\\\\n",
       "\t4 & 3 & NA & 140000 \\\\\n",
       "\\end{tabular}\n"
      ],
      "text/plain": [
       "\u001b[1m4×3 DataFrame\u001b[0m\n",
       "\u001b[1m Row \u001b[0m│\u001b[1m NumRooms \u001b[0m\u001b[1m RoofType \u001b[0m\u001b[1m Price  \u001b[0m\n",
       "     │\u001b[90m Int64    \u001b[0m\u001b[90m String7  \u001b[0m\u001b[90m Int64  \u001b[0m\n",
       "─────┼────────────────────────────\n",
       "   1 │        3  NA        127500\n",
       "   2 │        2  NA        106000\n",
       "   3 │        4  Slate     178100\n",
       "   4 │        3  NA        140000"
      ]
     },
     "execution_count": 91,
     "metadata": {},
     "output_type": "execute_result"
    }
   ],
   "source": [
    "# Some elbow grease is required. Change if find better way\n",
    "data = DataFrame(CSV.File(data_file))\n",
    "s = 0\n",
    "n_ve = 0\n",
    "for entry in data.NumRooms\n",
    "    if entry == \"NA\"\n",
    "        continue\n",
    "    else\n",
    "        s += parse(Int64, entry)\n",
    "        n_ve += 1\n",
    "    end\n",
    "end\n",
    "mean_nr = Int(s / n_ve)\n",
    "\n",
    "data.NumRooms = parse.(Int64, recode(data.NumRooms, \"NA\"=>string(Char('0' + mean_nr))))\n",
    "data"
   ]
  },
  {
   "cell_type": "markdown",
   "id": "2fdade3a",
   "metadata": {},
   "source": [
    "# 2.2.3. Data Preparation"
   ]
  },
  {
   "cell_type": "code",
   "execution_count": 69,
   "id": "ff5fad05",
   "metadata": {},
   "outputs": [
    {
     "ename": "LoadError",
     "evalue": "ArgumentError: cannot `convert` value String3(\"2\") (of type String3) to type of recoded levels (Char). This will happen with recode() when not all original levels are recoded (i.e. some are preserved) and their type is incompatible with that of recoded levels.",
     "output_type": "error",
     "traceback": [
      "ArgumentError: cannot `convert` value String3(\"2\") (of type String3) to type of recoded levels (Char). This will happen with recode() when not all original levels are recoded (i.e. some are preserved) and their type is incompatible with that of recoded levels.",
      "",
      "Stacktrace:",
      " [1] recode!(dest::Vector{Char}, src::Vector{String3}, default::Nothing, pairs::Pair{String, Char})",
      "   @ CategoricalArrays ~/.julia/packages/CategoricalArrays/tJ8hD/src/recode.jl:85",
      " [2] recode",
      "   @ ~/.julia/packages/CategoricalArrays/tJ8hD/src/recode.jl:389 [inlined]",
      " [3] recode(a::Vector{String3}, pairs::Pair{String, Char})",
      "   @ CategoricalArrays ~/.julia/packages/CategoricalArrays/tJ8hD/src/recode.jl:367",
      " [4] top-level scope",
      "   @ In[69]:7"
     ]
    }
   ],
   "source": [
    "v = []\n",
    "for d in data.NumRooms\n",
    "    if d != \"NA\"\n",
    "        append!(v, parse(Int64, d))\n",
    "    end\n",
    "end\n",
    "data.NumRooms = recode(data.NumRooms, \"NA\"=>Char(Int(mean(v))+'0'))"
   ]
  },
  {
   "cell_type": "code",
   "execution_count": 31,
   "id": "b026d9ee",
   "metadata": {},
   "outputs": [],
   "source": [
    "# 2.2.3. Conversion to the Tensor Format"
   ]
  },
  {
   "cell_type": "code",
   "execution_count": null,
   "id": "236aaec4",
   "metadata": {},
   "outputs": [],
   "source": []
  }
 ],
 "metadata": {
  "kernelspec": {
   "display_name": "Julia 1.8.5",
   "language": "julia",
   "name": "julia-1.8"
  },
  "language_info": {
   "file_extension": ".jl",
   "mimetype": "application/julia",
   "name": "julia",
   "version": "1.8.5"
  }
 },
 "nbformat": 4,
 "nbformat_minor": 5
}
