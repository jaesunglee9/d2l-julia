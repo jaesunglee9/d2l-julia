{
 "cells": [
  {
   "cell_type": "markdown",
   "id": "f6012071",
   "metadata": {},
   "source": [
    "# 2.1.1. Getting Started"
   ]
  },
  {
   "cell_type": "code",
   "execution_count": 3,
   "id": "a331157b",
   "metadata": {},
   "outputs": [],
   "source": [
    "using Flux"
   ]
  },
  {
   "cell_type": "code",
   "execution_count": 7,
   "id": "1c878176",
   "metadata": {},
   "outputs": [
    {
     "data": {
      "text/plain": [
       "12-element Vector{Float64}:\n",
       "  0.0\n",
       "  1.0\n",
       "  2.0\n",
       "  3.0\n",
       "  4.0\n",
       "  5.0\n",
       "  6.0\n",
       "  7.0\n",
       "  8.0\n",
       "  9.0\n",
       " 10.0\n",
       " 11.0"
      ]
     },
     "execution_count": 7,
     "metadata": {},
     "output_type": "execute_result"
    }
   ],
   "source": [
    "x = [0:1.:11;]  # note the semicolon "
   ]
  },
  {
   "cell_type": "code",
   "execution_count": null,
   "id": "d54693b4",
   "metadata": {},
   "outputs": [],
   "source": []
  }
 ],
 "metadata": {
  "kernelspec": {
   "display_name": "Julia 1.8.5",
   "language": "julia",
   "name": "julia-1.8"
  },
  "language_info": {
   "file_extension": ".jl",
   "mimetype": "application/julia",
   "name": "julia",
   "version": "1.8.5"
  }
 },
 "nbformat": 4,
 "nbformat_minor": 5
}
