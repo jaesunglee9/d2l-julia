{
 "cells": [
  {
   "cell_type": "markdown",
   "id": "f6012071",
   "metadata": {},
   "source": [
    "# 2.1.1. Getting Started"
   ]
  },
  {
   "cell_type": "code",
   "execution_count": 75,
   "id": "a331157b",
   "metadata": {},
   "outputs": [],
   "source": [
    "using Flux"
   ]
  },
  {
   "cell_type": "code",
   "execution_count": 76,
   "id": "1c878176",
   "metadata": {},
   "outputs": [
    {
     "data": {
      "text/plain": [
       "12-element Vector{Float32}:\n",
       "  0.0\n",
       "  1.0\n",
       "  2.0\n",
       "  3.0\n",
       "  4.0\n",
       "  5.0\n",
       "  6.0\n",
       "  7.0\n",
       "  8.0\n",
       "  9.0\n",
       " 10.0\n",
       " 11.0"
      ]
     },
     "execution_count": 76,
     "metadata": {},
     "output_type": "execute_result"
    }
   ],
   "source": [
    "x = Float32.([0:1.:11;])  # note the semicolon, and float32 conversion "
   ]
  },
  {
   "cell_type": "code",
   "execution_count": 77,
   "id": "d54693b4",
   "metadata": {},
   "outputs": [
    {
     "data": {
      "text/plain": [
       "12"
      ]
     },
     "execution_count": 77,
     "metadata": {},
     "output_type": "execute_result"
    }
   ],
   "source": [
    "length(x)"
   ]
  },
  {
   "cell_type": "code",
   "execution_count": 78,
   "id": "8e40358e",
   "metadata": {},
   "outputs": [
    {
     "data": {
      "text/plain": [
       "(12,)"
      ]
     },
     "execution_count": 78,
     "metadata": {},
     "output_type": "execute_result"
    }
   ],
   "source": [
    "size(x)"
   ]
  },
  {
   "cell_type": "code",
   "execution_count": 79,
   "id": "c152bfce",
   "metadata": {},
   "outputs": [
    {
     "data": {
      "text/plain": [
       "3×4 adjoint(::Matrix{Float32}) with eltype Float32:\n",
       " 0.0  1.0   2.0   3.0\n",
       " 4.0  5.0   6.0   7.0\n",
       " 8.0  9.0  10.0  11.0"
      ]
     },
     "execution_count": 79,
     "metadata": {},
     "output_type": "execute_result"
    }
   ],
   "source": [
    "X = reshape(x, 4, 3)'  # julia is column major, hence the reverse dimensions"
   ]
  },
  {
   "cell_type": "code",
   "execution_count": 80,
   "id": "daa5ab82",
   "metadata": {},
   "outputs": [
    {
     "data": {
      "text/plain": [
       "3×4 adjoint(::Matrix{Float32}) with eltype Float32:\n",
       " 0.0  1.0   2.0   3.0\n",
       " 4.0  5.0   6.0   7.0\n",
       " 8.0  9.0  10.0  11.0"
      ]
     },
     "execution_count": 80,
     "metadata": {},
     "output_type": "execute_result"
    }
   ],
   "source": [
    "X = reshape(x, :, 3)'  # this does the same thing as above"
   ]
  },
  {
   "cell_type": "code",
   "execution_count": 81,
   "id": "3e736c81",
   "metadata": {},
   "outputs": [
    {
     "data": {
      "text/plain": [
       "3×4×2 Array{Float64, 3}:\n",
       "[:, :, 1] =\n",
       " 0.0  0.0  0.0  0.0\n",
       " 0.0  0.0  0.0  0.0\n",
       " 0.0  0.0  0.0  0.0\n",
       "\n",
       "[:, :, 2] =\n",
       " 0.0  0.0  0.0  0.0\n",
       " 0.0  0.0  0.0  0.0\n",
       " 0.0  0.0  0.0  0.0"
      ]
     },
     "execution_count": 81,
     "metadata": {},
     "output_type": "execute_result"
    }
   ],
   "source": [
    "zeros(3, 4, 2)  # again, julia is column major"
   ]
  },
  {
   "cell_type": "code",
   "execution_count": 29,
   "id": "6f730f08",
   "metadata": {},
   "outputs": [
    {
     "data": {
      "text/plain": [
       "3×4×2 Array{Float64, 3}:\n",
       "[:, :, 1] =\n",
       " 1.0  1.0  1.0  1.0\n",
       " 1.0  1.0  1.0  1.0\n",
       " 1.0  1.0  1.0  1.0\n",
       "\n",
       "[:, :, 2] =\n",
       " 1.0  1.0  1.0  1.0\n",
       " 1.0  1.0  1.0  1.0\n",
       " 1.0  1.0  1.0  1.0"
      ]
     },
     "execution_count": 29,
     "metadata": {},
     "output_type": "execute_result"
    }
   ],
   "source": [
    "ones(3,4,2)"
   ]
  },
  {
   "cell_type": "code",
   "execution_count": 74,
   "id": "34dc5aa7",
   "metadata": {},
   "outputs": [
    {
     "data": {
      "text/plain": [
       "3×4 Matrix{Float64}:\n",
       " -1.5151      1.04244    -0.0253117   1.64663\n",
       "  0.0602965  -0.0206998  -0.790744   -0.321515\n",
       "  0.553358    0.797792    0.115701   -0.0138907"
      ]
     },
     "execution_count": 74,
     "metadata": {},
     "output_type": "execute_result"
    }
   ],
   "source": [
    "randn(3, 4)"
   ]
  },
  {
   "cell_type": "markdown",
   "id": "79d2990b",
   "metadata": {},
   "source": [
    "# 2.1.2. Indexing and slicing"
   ]
  },
  {
   "cell_type": "code",
   "execution_count": 34,
   "id": "c3a008f0",
   "metadata": {},
   "outputs": [
    {
     "data": {
      "text/plain": [
       "(Float32[8.0, 9.0, 10.0, 11.0], Float32[4.0 5.0 6.0 7.0; 8.0 9.0 10.0 11.0])"
      ]
     },
     "execution_count": 34,
     "metadata": {},
     "output_type": "execute_result"
    }
   ],
   "source": [
    "X[end, :], X[2:3, :]  # julia is 1-indexed, and can use 'begin' or 'end' to index first or last index"
   ]
  },
  {
   "cell_type": "code",
   "execution_count": 35,
   "id": "9271f6ad",
   "metadata": {},
   "outputs": [
    {
     "data": {
      "text/plain": [
       "3×4 adjoint(::Matrix{Float32}) with eltype Float32:\n",
       " 0.0  1.0   2.0   3.0\n",
       " 4.0  5.0  17.0   7.0\n",
       " 8.0  9.0  10.0  11.0"
      ]
     },
     "execution_count": 35,
     "metadata": {},
     "output_type": "execute_result"
    }
   ],
   "source": [
    "X[2, 3] = 17\n",
    "X"
   ]
  },
  {
   "cell_type": "code",
   "execution_count": 83,
   "id": "4eb676b8",
   "metadata": {},
   "outputs": [
    {
     "data": {
      "text/plain": [
       "3×4 adjoint(::Matrix{Float32}) with eltype Float32:\n",
       " 12.0  12.0  12.0  12.0\n",
       " 12.0  12.0  12.0  12.0\n",
       "  8.0   9.0  10.0  11.0"
      ]
     },
     "execution_count": 83,
     "metadata": {},
     "output_type": "execute_result"
    }
   ],
   "source": [
    "X[1:2, :] .= 12  # . operator is used for broadcasting\n",
    "X"
   ]
  },
  {
   "cell_type": "markdown",
   "id": "b45cf979",
   "metadata": {},
   "source": [
    "# 2.1.3. Operations"
   ]
  },
  {
   "cell_type": "code",
   "execution_count": 42,
   "id": "714c63fa",
   "metadata": {},
   "outputs": [
    {
     "data": {
      "text/plain": [
       "3×4 Matrix{Float32}:\n",
       "    1.62755f5     1.62755f5      1.62755f5      1.62755f5\n",
       "    1.62755f5     1.62755f5      1.62755f5      1.62755f5\n",
       " 2980.96       8103.08       22026.5        59874.1"
      ]
     },
     "execution_count": 42,
     "metadata": {},
     "output_type": "execute_result"
    }
   ],
   "source": [
    "exp.(X)"
   ]
  },
  {
   "cell_type": "code",
   "execution_count": 52,
   "id": "26d389f5",
   "metadata": {},
   "outputs": [
    {
     "data": {
      "text/plain": [
       "([3.0, 4.0, 6.0, 10.0], [-1.0, 0.0, 2.0, 6.0], [2.0, 4.0, 8.0, 16.0], [0.5, 1.0, 2.0, 4.0], [1.0, 4.0, 16.0, 64.0])"
      ]
     },
     "execution_count": 52,
     "metadata": {},
     "output_type": "execute_result"
    }
   ],
   "source": [
    "x = Float64.([1, 2, 4, 8])\n",
    "y = Float64.([2, 2, 2, 2])\n",
    "x .+ y, x .- y, x .* y, x ./ y, x .^ y"
   ]
  },
  {
   "cell_type": "code",
   "execution_count": 63,
   "id": "e6b9b8a0",
   "metadata": {},
   "outputs": [
    {
     "data": {
      "text/plain": [
       "3×8 Matrix{Float64}:\n",
       " 0.0  1.0   2.0   3.0  2.0  1.0  4.0  3.0\n",
       " 4.0  5.0   6.0   7.0  1.0  2.0  3.0  4.0\n",
       " 8.0  9.0  10.0  11.0  4.0  3.0  2.0  1.0"
      ]
     },
     "execution_count": 63,
     "metadata": {},
     "output_type": "execute_result"
    }
   ],
   "source": [
    "X = reshape([0.:1.:11.;], :, 3)'\n",
    "Y = Float64.([\n",
    "        2 1 4 3;\n",
    "        1 2 3 4;\n",
    "        4 3 2 1;\n",
    "        ])\n",
    "hcat(X,Y)  # horizontal concatenation"
   ]
  },
  {
   "cell_type": "code",
   "execution_count": 65,
   "id": "0205613a",
   "metadata": {},
   "outputs": [
    {
     "data": {
      "text/plain": [
       "3×4 BitMatrix:\n",
       " 0  1  0  1\n",
       " 0  0  0  0\n",
       " 0  0  0  0"
      ]
     },
     "execution_count": 65,
     "metadata": {},
     "output_type": "execute_result"
    }
   ],
   "source": [
    "X .== Y"
   ]
  },
  {
   "cell_type": "code",
   "execution_count": 66,
   "id": "162a665d",
   "metadata": {},
   "outputs": [
    {
     "data": {
      "text/plain": [
       "66.0"
      ]
     },
     "execution_count": 66,
     "metadata": {},
     "output_type": "execute_result"
    }
   ],
   "source": [
    "sum(X)"
   ]
  },
  {
   "cell_type": "code",
   "execution_count": null,
   "id": "9ce02ddc",
   "metadata": {},
   "outputs": [],
   "source": [
    "# 2.1.4. Broadcasting"
   ]
  },
  {
   "cell_type": "code",
   "execution_count": 71,
   "id": "7eb7db44",
   "metadata": {},
   "outputs": [
    {
     "data": {
      "text/plain": [
       "1×2 adjoint(::Vector{Int64}) with eltype Int64:\n",
       " 0  1"
      ]
     },
     "execution_count": 71,
     "metadata": {},
     "output_type": "execute_result"
    }
   ],
   "source": [
    "a = [0:2;]\n",
    "b = [0:1;]'"
   ]
  },
  {
   "cell_type": "code",
   "execution_count": 73,
   "id": "623a2def",
   "metadata": {},
   "outputs": [
    {
     "data": {
      "text/plain": [
       "3×2 Matrix{Int64}:\n",
       " 0  1\n",
       " 1  2\n",
       " 2  3"
      ]
     },
     "execution_count": 73,
     "metadata": {},
     "output_type": "execute_result"
    }
   ],
   "source": [
    "a .+ b"
   ]
  },
  {
   "cell_type": "code",
   "execution_count": null,
   "id": "7799dc1d",
   "metadata": {},
   "outputs": [],
   "source": []
  }
 ],
 "metadata": {
  "kernelspec": {
   "display_name": "Julia 1.8.5",
   "language": "julia",
   "name": "julia-1.8"
  },
  "language_info": {
   "file_extension": ".jl",
   "mimetype": "application/julia",
   "name": "julia",
   "version": "1.8.5"
  }
 },
 "nbformat": 4,
 "nbformat_minor": 5
}
